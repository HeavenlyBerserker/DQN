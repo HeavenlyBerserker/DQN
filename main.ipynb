{
 "cells": [
  {
   "cell_type": "code",
   "execution_count": null,
   "metadata": {},
   "outputs": [
    {
     "name": "stdout",
     "output_type": "stream",
     "text": [
      "Hello World!\n",
      "PyTorch version:  2.6.0+cu126\n",
      "CUDA available:  True\n",
      "NumPy version:  1.23.1\n",
      "Moviepy - Building video /home/hxu/Projects/DQN/episodes/rl-video-episode-0.mp4.\n",
      "Moviepy - Writing video /home/hxu/Projects/DQN/episodes/rl-video-episode-0.mp4\n",
      "\n"
     ]
    },
    {
     "name": "stderr",
     "output_type": "stream",
     "text": [
      "                                                           \r"
     ]
    },
    {
     "name": "stdout",
     "output_type": "stream",
     "text": [
      "Moviepy - Done !\n",
      "Moviepy - video ready /home/hxu/Projects/DQN/episodes/rl-video-episode-0.mp4\n",
      "Moviepy - Building video /home/hxu/Projects/DQN/episodes/rl-video-episode-1.mp4.\n",
      "Moviepy - Writing video /home/hxu/Projects/DQN/episodes/rl-video-episode-1.mp4\n",
      "\n"
     ]
    },
    {
     "name": "stderr",
     "output_type": "stream",
     "text": [
      "                                                   \r"
     ]
    },
    {
     "name": "stdout",
     "output_type": "stream",
     "text": [
      "Moviepy - Done !\n",
      "Moviepy - video ready /home/hxu/Projects/DQN/episodes/rl-video-episode-1.mp4\n",
      "Moviepy - Building video /home/hxu/Projects/DQN/episodes/rl-video-episode-2.mp4.\n",
      "Moviepy - Writing video /home/hxu/Projects/DQN/episodes/rl-video-episode-2.mp4\n",
      "\n"
     ]
    },
    {
     "name": "stderr",
     "output_type": "stream",
     "text": [
      "                                                   \r"
     ]
    },
    {
     "name": "stdout",
     "output_type": "stream",
     "text": [
      "Moviepy - Done !\n",
      "Moviepy - video ready /home/hxu/Projects/DQN/episodes/rl-video-episode-2.mp4\n",
      "Moviepy - Building video /home/hxu/Projects/DQN/episodes/rl-video-episode-3.mp4.\n",
      "Moviepy - Writing video /home/hxu/Projects/DQN/episodes/rl-video-episode-3.mp4\n",
      "\n"
     ]
    },
    {
     "name": "stderr",
     "output_type": "stream",
     "text": [
      "                                                   \r"
     ]
    },
    {
     "name": "stdout",
     "output_type": "stream",
     "text": [
      "Moviepy - Done !\n",
      "Moviepy - video ready /home/hxu/Projects/DQN/episodes/rl-video-episode-3.mp4\n",
      "Moviepy - Building video /home/hxu/Projects/DQN/episodes/rl-video-episode-4.mp4.\n",
      "Moviepy - Writing video /home/hxu/Projects/DQN/episodes/rl-video-episode-4.mp4\n",
      "\n"
     ]
    },
    {
     "name": "stderr",
     "output_type": "stream",
     "text": [
      "                                                   "
     ]
    },
    {
     "name": "stdout",
     "output_type": "stream",
     "text": [
      "Moviepy - Done !\n",
      "Moviepy - video ready /home/hxu/Projects/DQN/episodes/rl-video-episode-4.mp4\n"
     ]
    },
    {
     "name": "stderr",
     "output_type": "stream",
     "text": [
      "\r"
     ]
    }
   ],
   "source": [
    "import numpy as np\n",
    "import torch\n",
    "import cartpole\n",
    "import os\n",
    "from importlib import reload\n",
    "reload(cartpole)\n",
    "\n",
    "def main():\n",
    "    # Params\n",
    "    max_episodes = 5\n",
    "\n",
    "    print(\"Hello World!\")\n",
    "    print(\"PyTorch version: \", torch.__version__)\n",
    "    print(\"CUDA available: \", torch.cuda.is_available())\n",
    "    print(\"NumPy version: \", np.__version__)\n",
    "\n",
    "    # Create a directory to save the videos\n",
    "    video_dir = './episodes'\n",
    "    os.makedirs(video_dir, exist_ok=True)\n",
    "\n",
    "    env = cartpole.CartPoleEnv(video_dir=video_dir)\n",
    "    state = env.reset()\n",
    "    done = False\n",
    "\n",
    "    for i in range(max_episodes):\n",
    "        env.reset()\n",
    "        done = False\n",
    "        while not done:\n",
    "            action = env.env.action_space.sample()\n",
    "            next_state, reward, done, info = env.step(action)\n",
    "\n",
    "    env.close()\n",
    "\n",
    "if __name__ == \"__main__\":\n",
    "    main()"
   ]
  }
 ],
 "metadata": {
  "kernelspec": {
   "display_name": "rl0",
   "language": "python",
   "name": "python3"
  },
  "language_info": {
   "codemirror_mode": {
    "name": "ipython",
    "version": 3
   },
   "file_extension": ".py",
   "mimetype": "text/x-python",
   "name": "python",
   "nbconvert_exporter": "python",
   "pygments_lexer": "ipython3",
   "version": "3.10.16"
  }
 },
 "nbformat": 4,
 "nbformat_minor": 2
}
